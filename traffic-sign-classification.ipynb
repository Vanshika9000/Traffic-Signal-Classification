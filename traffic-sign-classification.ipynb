{
 "cells": [
  {
   "cell_type": "markdown",
   "execution_count": null,
   "metadata": {},
   "source": [
    "# Traffic sign classification\n",
    "\n"
   ]
  },
  {
   "cell_type": "markdown",
   "execution_count": null,
   "metadata": {},
   "source": [
    "# Transfer Learning"
   ]
  },
  {
   "cell_type": "markdown",
   "execution_count": null,
   "metadata": {},
   "source": [
    "transfer learning the process of reusing the model trained for anothor task.there are two approaches to perform transfer learning .\n",
    "\n",
    "1.feature Extraction\n",
    "2.fine tuning"
   ]
  },
  {
   "cell_type": "code",
   "execution_count": 1,
   "metadata": {},
   "outputs": [],
   "source": [
    "import os # work with directory\n",
    "import cv2\n",
    "from tqdm import tqdm\n",
    "import pandas as pd\n",
    "import matplotlib.pyplot as plt\n",
    "import numpy as np\n",
    "img_size = 224\n",
    "from keras.utils import to_categorical"
   ]
  },
  {
   "cell_type": "code",
   "execution_count": 2,
   "metadata": {},
   "outputs": [
    {
     "name": "stdout",
     "output_type": "stream",
     "text": [
      "['00021', '00010', '00041', '00020', '00019', '00024', '00030', '00027', '00013', '00015', '00029', '00034', '00014', '00012', '00017', '00011', '00060', '00032', '00000', '00051', '00036', '00045', '00026', '00025', '00002', '00059', '00044', '00022', '00046', '00031', '00006', '00049', '00008', '00040', '00009', '00048', '00053', '00061', '00005', '00001', '00037', '00052', '00058', 'Readme.txt', '00016', '00004', '00028', '00055', '00050', '00023', '00038', '00056', '00003', '00047', '00054', '00035', '00018', '00042', '00043', '00057', '00007', '00033', '00039']\n",
      "['00021', '00010', '00041', '00020', '00019', '00024', '00030', '00027', '00013', '00015', '00029', '00034', '00014', '00012', '00017', '00011', '00060', '00032', '00000', '00051', '00036', '00045', '00026', '00025', '00002', '00059', '00044', '00022', '00046', '00031', '00006', '00049', '00008', '00040', '00009', '00048', '00053', '00061', '00005', '00001', '00037', '00052', '00058', 'Readme.txt', '00016', '00004', '00028', '00055', '00050', '00023', '00038', '00056', '00003', '00047', '00054', '00035', '00018', '00042', '00043', '00057', '00007', '00033', '00039']\n"
     ]
    }
   ],
   "source": [
    "print(os.listdir(\"/kaggle/input/belgiumts-dataset/BelgiumTSC_Training/Training\"))\n",
    "print(os.listdir(\"/kaggle/input/belgiumts-dataset/BelgiumTSC_Testing/Testing\"))"
   ]
  },
  {
   "cell_type": "markdown",
   "execution_count": null,
   "metadata": {},
   "source": [
    "load_dataset method which will be used for loading the traning dataset as well as testing dataset."
   ]
  },
  {
   "cell_type": "code",
   "execution_count": 3,
   "metadata": {},
   "outputs": [],
   "source": [
    "def load_dataset(file_name):\n",
    "    if file_name == \"Training\":\n",
    "        directory = \"/kaggle/input/belgiumts-dataset/BelgiumTSC_Training/Training\"\n",
    "    elif file_name ==\"Testing\":\n",
    "        directory = \"/kaggle/input/belgiumts-dataset/BelgiumTSC_Testing/Testing\"\n",
    "        \n",
    "    list_images =[]\n",
    "    list_labels=[]\n",
    "    \n",
    "    count = 0\n",
    "        \n",
    "    for sub_dir in tqdm(os.listdir(directory)):\n",
    "\n",
    "        \n",
    "        if sub_dir == 'Readme.txt':\n",
    "            pass\n",
    "        \n",
    "        else:\n",
    "            inner_directory = os.path.join(directory,sub_dir)\n",
    "            for image_file in os.listdir(inner_directory):\n",
    "                \n",
    "                if image_file.endswith(\".ppm\"):\n",
    "                    \n",
    "                    img = cv2.imread(os.path.join(inner_directory,image_file))\n",
    "                    img = cv2.resize(img,(img_size,img_size))\n",
    "                    \n",
    "                    list_images.append(img)\n",
    "                    \n",
    "                    list_labels.append(count)\n",
    "            count +=1   \n",
    "            \n",
    "    list_images = np.array(list_images).reshape(-1,img_size,img_size,3)        \n",
    "                    \n",
    "    list_labels = np.array(list_labels)\n",
    "    list_labels= to_categorical(list_labels,count)        \n",
    "  \n",
    "      \n",
    "    return list_images , list_labels              \n",
    "                    \n",
    "                    \n",
    "                    \n",
    "                    \n",
    "            \n",
    "            \n",
    "            "
   ]
  },
  {
   "cell_type": "markdown",
   "execution_count": null,
   "metadata": {},
   "source": [
    "**training_dadaset contain image features which will be used to train the model and training_label contain outputs.**"
   ]
  },
  {
   "cell_type": "code",
   "execution_count": 4,
   "metadata": {},
   "outputs": [
    {
     "name": "stderr",
     "output_type": "stream",
     "text": [
      "100%|██████████| 63/63 [00:13<00:00,  4.73it/s]\n",
      "100%|██████████| 63/63 [00:06<00:00,  9.31it/s]\n"
     ]
    }
   ],
   "source": [
    "training_dataset , training_label =load_dataset(\"Training\")\n",
    "testing_dataset , testing_label =load_dataset(\"Testing\")\n"
   ]
  },
  {
   "cell_type": "markdown",
   "execution_count": null,
   "metadata": {},
   "source": [
    "# Now training dataset is devided into two part ."
   ]
  },
  {
   "cell_type": "markdown",
   "execution_count": null,
   "metadata": {},
   "source": [
    "1.training_set\n",
    "2.validation_set\n",
    "\n",
    "training_set is used to train the model and validation dataset is used to ckeck whether overfiting problem is occur or not.\n",
    "\n",
    "overfitting problem --> when our model give more correctly result on training set but not give correct result on validation set then we can say that there is overfitting problem.\n",
    "\n"
   ]
  },
  {
   "cell_type": "code",
   "execution_count": 5,
   "metadata": {},
   "outputs": [],
   "source": [
    "from sklearn.model_selection import train_test_split\n",
    "X_train,X_val, Y_train, Y_val = train_test_split(training_dataset,training_label ,test_size=0.2, random_state=101,shuffle = True)"
   ]
  },
  {
   "cell_type": "markdown",
   "execution_count": null,
   "metadata": {},
   "source": [
    "# 1. I am using second type of transfer learning --> finetuning"
   ]
  },
  {
   "cell_type": "markdown",
   "execution_count": null,
   "metadata": {},
   "source": [
    "a. i will use pretrained VGG-16 model .and remove last layer (output layer) from vgg-16.i will add some dense layer and only train these dense layer .\n",
    "b. all vgg-16 model will remain freeze."
   ]
  },
  {
   "cell_type": "code",
   "execution_count": 6,
   "metadata": {},
   "outputs": [],
   "source": [
    "from keras.layers import Input ,Dense,Flatten\n",
    "from keras.models import Model\n",
    "from keras.applications.vgg16 import VGG16\n",
    "from keras.applications.vgg16 import preprocess_input\n",
    "from keras.preprocessing import image\n",
    "from keras.preprocessing.image import ImageDataGenerator\n",
    "from keras.models import Sequential\n",
    "from keras.optimizers import Adam\n"
   ]
  },
  {
   "cell_type": "code",
   "execution_count": 7,
   "metadata": {},
   "outputs": [
    {
     "name": "stdout",
     "output_type": "stream",
     "text": [
      "Downloading data from https://storage.googleapis.com/tensorflow/keras-applications/vgg16/vgg16_weights_tf_dim_ordering_tf_kernels_notop.h5\n",
      "58892288/58889256 [==============================] - 1s 0us/step\n"
     ]
    }
   ],
   "source": [
    "vgg = VGG16(input_shape = [img_size,img_size,3],weights='imagenet',include_top = False) # include_top = false means remove output layer\n"
   ]
  },
  {
   "cell_type": "code",
   "execution_count": 8,
   "metadata": {},
   "outputs": [],
   "source": [
    "for layer in vgg.layers:\n",
    "    layer.trainable = False"
   ]
  },
  {
   "cell_type": "code",
   "execution_count": 9,
   "metadata": {},
   "outputs": [],
   "source": [
    "X = Flatten()(vgg.output)\n",
    "\n",
    "layer1 = Dense(512,activation = \"relu\")(X)\n",
    "\n",
    "layer2 = Dense(1536,activation = \"relu\")(layer1)\n",
    "\n",
    "layer3 = Dense(3072,activation = \"relu\")(layer2)\n",
    "\n",
    "layer4 = Dense(6144,activation = \"relu\")(layer3)\n",
    "\n",
    "layer5 = Dense(12288,activation = \"relu\")(layer4)\n",
    "\n",
    "prediction = Dense(Y_train.shape[1],activation = \"softmax\")(layer5) # output layer "
   ]
  },
  {
   "cell_type": "markdown",
   "execution_count": null,
   "metadata": {},
   "source": [
    "above these two layers are added with vgg16 model .but only these two layer are used to train."
   ]
  },
  {
   "cell_type": "code",
   "execution_count": 10,
   "metadata": {},
   "outputs": [],
   "source": [
    "# create the model object\n",
    "\n",
    "model = Model(inputs = vgg.input,outputs = prediction)"
   ]
  },
  {
   "cell_type": "code",
   "execution_count": 11,
   "metadata": {},
   "outputs": [
    {
     "name": "stdout",
     "output_type": "stream",
     "text": [
      "Model: \"model\"\n",
      "_________________________________________________________________\n",
      "Layer (type)                 Output Shape              Param #   \n",
      "=================================================================\n",
      "input_1 (InputLayer)         [(None, 224, 224, 3)]     0         \n",
      "_________________________________________________________________\n",
      "block1_conv1 (Conv2D)        (None, 224, 224, 64)      1792      \n",
      "_________________________________________________________________\n",
      "block1_conv2 (Conv2D)        (None, 224, 224, 64)      36928     \n",
      "_________________________________________________________________\n",
      "block1_pool (MaxPooling2D)   (None, 112, 112, 64)      0         \n",
      "_________________________________________________________________\n",
      "block2_conv1 (Conv2D)        (None, 112, 112, 128)     73856     \n",
      "_________________________________________________________________\n",
      "block2_conv2 (Conv2D)        (None, 112, 112, 128)     147584    \n",
      "_________________________________________________________________\n",
      "block2_pool (MaxPooling2D)   (None, 56, 56, 128)       0         \n",
      "_________________________________________________________________\n",
      "block3_conv1 (Conv2D)        (None, 56, 56, 256)       295168    \n",
      "_________________________________________________________________\n",
      "block3_conv2 (Conv2D)        (None, 56, 56, 256)       590080    \n",
      "_________________________________________________________________\n",
      "block3_conv3 (Conv2D)        (None, 56, 56, 256)       590080    \n",
      "_________________________________________________________________\n",
      "block3_pool (MaxPooling2D)   (None, 28, 28, 256)       0         \n",
      "_________________________________________________________________\n",
      "block4_conv1 (Conv2D)        (None, 28, 28, 512)       1180160   \n",
      "_________________________________________________________________\n",
      "block4_conv2 (Conv2D)        (None, 28, 28, 512)       2359808   \n",
      "_________________________________________________________________\n",
      "block4_conv3 (Conv2D)        (None, 28, 28, 512)       2359808   \n",
      "_________________________________________________________________\n",
      "block4_pool (MaxPooling2D)   (None, 14, 14, 512)       0         \n",
      "_________________________________________________________________\n",
      "block5_conv1 (Conv2D)        (None, 14, 14, 512)       2359808   \n",
      "_________________________________________________________________\n",
      "block5_conv2 (Conv2D)        (None, 14, 14, 512)       2359808   \n",
      "_________________________________________________________________\n",
      "block5_conv3 (Conv2D)        (None, 14, 14, 512)       2359808   \n",
      "_________________________________________________________________\n",
      "block5_pool (MaxPooling2D)   (None, 7, 7, 512)         0         \n",
      "_________________________________________________________________\n",
      "flatten (Flatten)            (None, 25088)             0         \n",
      "_________________________________________________________________\n",
      "dense (Dense)                (None, 512)               12845568  \n",
      "_________________________________________________________________\n",
      "dense_1 (Dense)              (None, 1536)              787968    \n",
      "_________________________________________________________________\n",
      "dense_2 (Dense)              (None, 3072)              4721664   \n",
      "_________________________________________________________________\n",
      "dense_3 (Dense)              (None, 6144)              18880512  \n",
      "_________________________________________________________________\n",
      "dense_4 (Dense)              (None, 12288)             75509760  \n",
      "_________________________________________________________________\n",
      "dense_5 (Dense)              (None, 62)                761918    \n",
      "=================================================================\n",
      "Total params: 128,222,078\n",
      "Trainable params: 113,507,390\n",
      "Non-trainable params: 14,714,688\n",
      "_________________________________________________________________\n"
     ]
    }
   ],
   "source": [
    "model.summary()"
   ]
  },
  {
   "cell_type": "code",
   "execution_count": 12,
   "metadata": {},
   "outputs": [],
   "source": [
    "opt = Adam(learning_rate=0.0001)\n",
    "model.compile(loss = \"categorical_crossentropy\",optimizer=opt,metrics =['accuracy'])"
   ]
  },
  {
   "cell_type": "code",
   "execution_count": 13,
   "metadata": {},
   "outputs": [
    {
     "name": "stdout",
     "output_type": "stream",
     "text": [
      "Epoch 1/30\n",
      "229/229 [==============================] - 16s 71ms/step - loss: 1.3456 - accuracy: 0.7339 - val_loss: 0.5074 - val_accuracy: 0.8787\n",
      "Epoch 2/30\n",
      "229/229 [==============================] - 15s 67ms/step - loss: 0.1801 - accuracy: 0.9587 - val_loss: 0.4138 - val_accuracy: 0.9311\n",
      "Epoch 3/30\n",
      "229/229 [==============================] - 15s 67ms/step - loss: 0.0741 - accuracy: 0.9842 - val_loss: 0.3146 - val_accuracy: 0.9268\n",
      "Epoch 4/30\n",
      "229/229 [==============================] - 15s 66ms/step - loss: 0.1103 - accuracy: 0.9795 - val_loss: 0.1574 - val_accuracy: 0.9639\n",
      "Epoch 5/30\n",
      "229/229 [==============================] - 15s 66ms/step - loss: 0.0251 - accuracy: 0.9937 - val_loss: 0.3114 - val_accuracy: 0.9628\n",
      "Epoch 6/30\n",
      "229/229 [==============================] - 15s 67ms/step - loss: 0.0865 - accuracy: 0.9836 - val_loss: 0.1685 - val_accuracy: 0.9563\n",
      "Epoch 7/30\n",
      "229/229 [==============================] - 15s 67ms/step - loss: 0.0273 - accuracy: 0.9943 - val_loss: 0.4910 - val_accuracy: 0.9169\n",
      "Epoch 8/30\n",
      "229/229 [==============================] - 15s 66ms/step - loss: 0.0663 - accuracy: 0.9891 - val_loss: 0.2578 - val_accuracy: 0.9563\n",
      "Epoch 9/30\n",
      "229/229 [==============================] - 15s 66ms/step - loss: 0.0051 - accuracy: 0.9989 - val_loss: 0.2495 - val_accuracy: 0.9596\n",
      "Epoch 10/30\n",
      "229/229 [==============================] - 15s 67ms/step - loss: 0.1492 - accuracy: 0.9773 - val_loss: 0.7384 - val_accuracy: 0.9399\n",
      "Epoch 11/30\n",
      "229/229 [==============================] - 15s 66ms/step - loss: 0.1066 - accuracy: 0.9855 - val_loss: 0.2022 - val_accuracy: 0.9585\n",
      "Epoch 12/30\n",
      "229/229 [==============================] - 15s 66ms/step - loss: 0.0390 - accuracy: 0.9943 - val_loss: 0.1373 - val_accuracy: 0.9738\n",
      "Epoch 13/30\n",
      "229/229 [==============================] - 15s 67ms/step - loss: 0.0415 - accuracy: 0.9943 - val_loss: 0.1580 - val_accuracy: 0.9628\n",
      "Epoch 14/30\n",
      "229/229 [==============================] - 15s 67ms/step - loss: 0.0283 - accuracy: 0.9937 - val_loss: 0.1807 - val_accuracy: 0.9650\n",
      "Epoch 15/30\n",
      "229/229 [==============================] - 15s 67ms/step - loss: 0.1010 - accuracy: 0.9893 - val_loss: 0.1188 - val_accuracy: 0.9738\n",
      "Epoch 16/30\n",
      "229/229 [==============================] - 15s 66ms/step - loss: 0.0234 - accuracy: 0.9970 - val_loss: 0.5302 - val_accuracy: 0.9322\n",
      "Epoch 17/30\n",
      "229/229 [==============================] - 15s 66ms/step - loss: 0.0626 - accuracy: 0.9926 - val_loss: 0.2490 - val_accuracy: 0.9486\n",
      "Epoch 18/30\n",
      "229/229 [==============================] - 15s 67ms/step - loss: 0.0882 - accuracy: 0.9918 - val_loss: 0.1357 - val_accuracy: 0.9705\n",
      "Epoch 19/30\n",
      "229/229 [==============================] - 15s 66ms/step - loss: 0.0889 - accuracy: 0.9926 - val_loss: 0.2375 - val_accuracy: 0.9552\n",
      "Epoch 20/30\n",
      "229/229 [==============================] - 15s 66ms/step - loss: 0.0447 - accuracy: 0.9940 - val_loss: 0.1863 - val_accuracy: 0.9705\n",
      "Epoch 21/30\n",
      "229/229 [==============================] - 15s 66ms/step - loss: 7.5525e-05 - accuracy: 1.0000 - val_loss: 0.1723 - val_accuracy: 0.9760\n",
      "Epoch 22/30\n",
      "229/229 [==============================] - 15s 66ms/step - loss: 3.8580e-06 - accuracy: 1.0000 - val_loss: 0.1682 - val_accuracy: 0.9770\n",
      "Epoch 26/30\n",
      "229/229 [==============================] - 16s 68ms/step - loss: 3.1696e-06 - accuracy: 1.0000 - val_loss: 0.1674 - val_accuracy: 0.9770\n",
      "Epoch 27/30\n",
      "229/229 [==============================] - 15s 66ms/step - loss: 2.6417e-06 - accuracy: 1.0000 - val_loss: 0.1665 - val_accuracy: 0.9770\n",
      "Epoch 28/30\n",
      "229/229 [==============================] - 15s 66ms/step - loss: 2.2187e-06 - accuracy: 1.0000 - val_loss: 0.1658 - val_accuracy: 0.9770\n",
      "Epoch 29/30\n",
      "229/229 [==============================] - 15s 66ms/step - loss: 1.8787e-06 - accuracy: 1.0000 - val_loss: 0.1649 - val_accuracy: 0.9770\n",
      "Epoch 30/30\n",
      "229/229 [==============================] - 15s 66ms/step - loss: 1.5990e-06 - accuracy: 1.0000 - val_loss: 0.1642 - val_accuracy: 0.9781\n"
     ]
    }
   ],
   "source": [
    "ans = model.fit(X_train ,Y_train , batch_size = 16,epochs =30,validation_data=(X_val,Y_val))"
   ]
  },
  {
   "cell_type": "markdown",
   "execution_count": null,
   "metadata": {},
   "source": [
    "now we can see it gave 100% accuracy ."
   ]
  },
  {
   "cell_type": "code",
   "execution_count": 14,
   "metadata": {},
   "outputs": [
    {
     "data": {
      "image/png": "[encoded data removed]",
      "text/plain": [
       "<Figure size 432x288 with 1 Axes>"
      ]
     },
     "metadata": {
      "needs_background": "light"
     },
     "output_type": "display_data"
    },
    {
     "data": {
      "image/png": "[encoded data removed]",
      "text/plain": [
       "<Figure size 432x288 with 1 Axes>"
      ]
     },
     "metadata": {
      "needs_background": "light"
     },
     "output_type": "display_data"
    }
   ],
   "source": [
    "acc = ans.history['accuracy']\n",
    "val_acc = ans.history['val_accuracy']\n",
    "loss = ans.history['loss']\n",
    "val_loss = ans.history['val_loss']\n",
    "epochs = range(1,len(acc)+1)\n",
    "\n",
    "plt.plot(epochs,acc,'bo',label ='Training_acc')\n",
    "plt.plot(epochs,val_acc,'b',label ='validation_acc')\n",
    "plt.title(\"training and validation accuracy\")\n",
    "plt.legend()\n",
    "\n",
    "plt.figure()\n",
    "\n",
    "plt.plot(epochs,loss,'bo',label ='Training_loss')\n",
    "plt.plot(epochs,val_loss,'b',label ='validation_loss')\n",
    "plt.title(\"training and validation accuracy\")\n",
    "plt.legend()\n",
    "\n",
    "plt.show()"
   ]
  },
  {
   "cell_type": "code",
   "execution_count": 15,
   "metadata": {
    "collapsed": true
   },
   "outputs": [
    {
     "name": "stdout",
     "output_type": "stream",
     "text": [
      "Accuracy on Test  91.94444444444444 %\n"
     ]
    }
   ],
   "source": [
    "predict = np.argmax(model.predict(testing_dataset), axis = 1)\n",
    "count = 0\n",
    "for i in range(0,predict.shape[0]):\n",
    "    if (predict[i] == np.argmax(testing_label[i])):\n",
    "        count +=1\n",
    "print ('Accuracy on Test ',100 * count/predict.shape[0],'%')"
   ]
  },
  {
   "cell_type": "code",
   "execution_count": null,
   "metadata": {},
   "outputs": [],
   "source": []
  }
 ],
 "metadata": {
  "kernelspec": {
   "display_name": "Python 3",
   "language": "python",
   "name": "python3"
  },
  "language_info": {
   "codemirror_mode": {
    "name": "ipython",
    "version": 3
   },
   "file_extension": ".py",
   "mimetype": "text/x-python",
   "name": "python",
   "nbconvert_exporter": "python",
   "pygments_lexer": "ipython3",
   "version": "3.7.6"
  }
 },
 "nbformat": 4,
 "nbformat_minor": 4
}
